{
 "cells": [
  {
   "cell_type": "markdown",
   "id": "2c323107-f36b-48d7-801b-420d5a7f976a",
   "metadata": {},
   "source": [
    "# Model for the problem statement"
   ]
  },
  {
   "cell_type": "code",
   "execution_count": 1,
   "id": "0056a3d1-8e2a-4ed3-af9f-4385c0b8cf33",
   "metadata": {},
   "outputs": [],
   "source": [
    "import pandas as pd\n",
    "import numpy as np\n",
    "import matplotlib.pyplot as plt\n",
    "import seaborn as sns\n",
    "from sklearn.preprocessing import StandardScaler, OneHotEncoder\n",
    "from sklearn.compose import ColumnTransformer\n",
    "from sklearn.impute import SimpleImputer\n",
    "from sklearn.pipeline import Pipeline\n",
    "from sklearn.model_selection import train_test_split\n",
    "from sklearn.linear_model import LogisticRegression\n",
    "from sklearn.svm import SVC\n",
    "from sklearn.metrics import roc_auc_score, confusion_matrix, classification_report"
   ]
  },
  {
   "cell_type": "code",
   "execution_count": 2,
   "id": "91d80012-7f87-4c21-a6ea-d01a1ea8e8a6",
   "metadata": {},
   "outputs": [],
   "source": [
    "train_data_features = pd.read_csv('training_set_features.csv')\n",
    "test_data = pd.read_csv('test_set_features.csv')\n",
    "train_data_labels=pd.read_csv('training_set_labels.csv')"
   ]
  },
  {
   "cell_type": "code",
   "execution_count": 3,
   "id": "21f9adfb-bf4c-40dd-9637-0a1bf18fba6c",
   "metadata": {},
   "outputs": [
    {
     "data": {
      "text/plain": [
       "(26707, 36)"
      ]
     },
     "execution_count": 3,
     "metadata": {},
     "output_type": "execute_result"
    }
   ],
   "source": [
    "train_data_features.shape"
   ]
  },
  {
   "cell_type": "code",
   "execution_count": 4,
   "id": "a509280b-7031-4e4f-adad-858f843e1eb3",
   "metadata": {},
   "outputs": [
    {
     "data": {
      "text/plain": [
       "(26708, 36)"
      ]
     },
     "execution_count": 4,
     "metadata": {},
     "output_type": "execute_result"
    }
   ],
   "source": [
    "test_data.shape"
   ]
  },
  {
   "cell_type": "code",
   "execution_count": 5,
   "id": "e7118c94-e3de-4671-ad38-3b138ee3b823",
   "metadata": {},
   "outputs": [
    {
     "data": {
      "text/plain": [
       "respondent_id                      0\n",
       "xyz_concern                       92\n",
       "xyz_knowledge                    116\n",
       "behavioral_antiviral_meds         71\n",
       "behavioral_avoidance             208\n",
       "behavioral_face_mask              19\n",
       "behavioral_wash_hands             42\n",
       "behavioral_large_gatherings       87\n",
       "behavioral_outside_home           82\n",
       "behavioral_touch_face            128\n",
       "doctor_recc_xyz                 2160\n",
       "doctor_recc_seasonal            2160\n",
       "chronic_med_condition            971\n",
       "child_under_6_months             820\n",
       "health_worker                    804\n",
       "health_insurance               12274\n",
       "opinion_xyz_vacc_effective       391\n",
       "opinion_xyz_risk                 388\n",
       "opinion_xyz_sick_from_vacc       395\n",
       "opinion_seas_vacc_effective      462\n",
       "opinion_seas_risk                514\n",
       "opinion_seas_sick_from_vacc      537\n",
       "age_group                          0\n",
       "education                       1407\n",
       "race                               0\n",
       "sex                                0\n",
       "income_poverty                  4423\n",
       "marital_status                  1408\n",
       "rent_or_own                     2042\n",
       "employment_status               1463\n",
       "hhs_geo_region                     0\n",
       "census_msa                         0\n",
       "household_adults                 249\n",
       "household_children               249\n",
       "employment_industry            13330\n",
       "employment_occupation          13470\n",
       "dtype: int64"
      ]
     },
     "execution_count": 5,
     "metadata": {},
     "output_type": "execute_result"
    }
   ],
   "source": [
    "train_data_features.isnull().sum()"
   ]
  },
  {
   "cell_type": "code",
   "execution_count": 6,
   "id": "b352a9a2-b884-42d9-a41c-6c7b148a5cb9",
   "metadata": {},
   "outputs": [
    {
     "data": {
      "text/plain": [
       "respondent_id                      0\n",
       "xyz_concern                       85\n",
       "xyz_knowledge                    122\n",
       "behavioral_antiviral_meds         79\n",
       "behavioral_avoidance             213\n",
       "behavioral_face_mask              19\n",
       "behavioral_wash_hands             40\n",
       "behavioral_large_gatherings       72\n",
       "behavioral_outside_home           82\n",
       "behavioral_touch_face            128\n",
       "doctor_recc_xyz                 2160\n",
       "doctor_recc_seasonal            2160\n",
       "chronic_med_condition            932\n",
       "child_under_6_months             813\n",
       "health_worker                    789\n",
       "health_insurance               12228\n",
       "opinion_xyz_vacc_effective       398\n",
       "opinion_xyz_risk                 380\n",
       "opinion_xyz_sick_from_vacc       375\n",
       "opinion_seas_vacc_effective      452\n",
       "opinion_seas_risk                499\n",
       "opinion_seas_sick_from_vacc      521\n",
       "age_group                          0\n",
       "education                       1407\n",
       "race                               0\n",
       "sex                                0\n",
       "income_poverty                  4497\n",
       "marital_status                  1442\n",
       "rent_or_own                     2036\n",
       "employment_status               1471\n",
       "hhs_geo_region                     0\n",
       "census_msa                         0\n",
       "household_adults                 225\n",
       "household_children               225\n",
       "employment_industry            13275\n",
       "employment_occupation          13426\n",
       "dtype: int64"
      ]
     },
     "execution_count": 6,
     "metadata": {},
     "output_type": "execute_result"
    }
   ],
   "source": [
    "test_data.isnull().sum()"
   ]
  },
  {
   "cell_type": "markdown",
   "id": "76ac85fd-62a7-4b2d-b3ca-810d409bf1b1",
   "metadata": {},
   "source": [
    "### handling missing data and dropping columns"
   ]
  },
  {
   "cell_type": "code",
   "execution_count": 8,
   "id": "7ce5654d-8a0e-4a11-9a5b-6285f692e352",
   "metadata": {},
   "outputs": [],
   "source": [
    "# have to drop columns who have more than 50% missing value.To find that made threshold value.\n",
    "threshold = 0.5 * len(train_data_features)\n",
    "cols_to_drop = [col for col in train_data_features.columns if train_data_features[col].isnull().sum() > threshold]\n",
    "train_data_features = train_data_features.drop(columns=cols_to_drop)\n",
    "test_data = test_data.drop(columns=cols_to_drop)\n"
   ]
  },
  {
   "cell_type": "markdown",
   "id": "add9e051-866b-4da3-93e0-2c1523404367",
   "metadata": {},
   "source": [
    "categorising the dataset\n"
   ]
  },
  {
   "cell_type": "code",
   "execution_count": null,
   "id": "c09c8071-0c4a-45f7-83ae-64d8018b0762",
   "metadata": {},
   "outputs": [],
   "source": [
    "numerical_cols = train_data_features.select_dtypes(include=['int64', 'float64']).columns\n",
    "categorical_cols = train_data_features.select_dtypes(include=['object']).columns\n",
    "\n",
    "numerical_imputer = SimpleImputer(strategy='mean')\n",
    "categorical_imputer = SimpleImputer(strategy='most_frequent')\n",
    "\n",
    "train_data_features[numerical_cols] = numerical_imputer.fit_transform(train_data_features[numerical_cols])\n",
    "train_data_features[categorical_cols] = categorical_imputer.fit_transform(train_data_features[categorical_cols])\n",
    "\n",
    "test_data[numerical_cols] = numerical_imputer.transform(test_data[numerical_cols])\n",
    "test_data[categorical_cols] = categorical_imputer.transform(test_data[categorical_cols])"
   ]
  },
  {
   "cell_type": "code",
   "execution_count": 10,
   "id": "8bebddb9-73e9-499f-8238-75230c64eedb",
   "metadata": {},
   "outputs": [],
   "source": [
    "train_data = train_data_features.join(train_data_labels.set_index('respondent_id'), on='respondent_id')"
   ]
  },
  {
   "cell_type": "code",
   "execution_count": null,
   "id": "4deab735-5fa1-4f54-8235-aab62e80c370",
   "metadata": {},
   "outputs": [],
   "source": []
  },
  {
   "cell_type": "code",
   "execution_count": 11,
   "id": "971ec4e1-a064-404f-99d7-a5b71b768ebd",
   "metadata": {},
   "outputs": [
    {
     "name": "stdout",
     "output_type": "stream",
     "text": [
      "<class 'pandas.core.frame.DataFrame'>\n",
      "RangeIndex: 26707 entries, 0 to 26706\n",
      "Data columns (total 37 columns):\n",
      " #   Column                       Non-Null Count  Dtype  \n",
      "---  ------                       --------------  -----  \n",
      " 0   respondent_id                26707 non-null  float64\n",
      " 1   xyz_concern                  26707 non-null  float64\n",
      " 2   xyz_knowledge                26707 non-null  float64\n",
      " 3   behavioral_antiviral_meds    26707 non-null  float64\n",
      " 4   behavioral_avoidance         26707 non-null  float64\n",
      " 5   behavioral_face_mask         26707 non-null  float64\n",
      " 6   behavioral_wash_hands        26707 non-null  float64\n",
      " 7   behavioral_large_gatherings  26707 non-null  float64\n",
      " 8   behavioral_outside_home      26707 non-null  float64\n",
      " 9   behavioral_touch_face        26707 non-null  float64\n",
      " 10  doctor_recc_xyz              26707 non-null  float64\n",
      " 11  doctor_recc_seasonal         26707 non-null  float64\n",
      " 12  chronic_med_condition        26707 non-null  float64\n",
      " 13  child_under_6_months         26707 non-null  float64\n",
      " 14  health_worker                26707 non-null  float64\n",
      " 15  health_insurance             26707 non-null  float64\n",
      " 16  opinion_xyz_vacc_effective   26707 non-null  float64\n",
      " 17  opinion_xyz_risk             26707 non-null  float64\n",
      " 18  opinion_xyz_sick_from_vacc   26707 non-null  float64\n",
      " 19  opinion_seas_vacc_effective  26707 non-null  float64\n",
      " 20  opinion_seas_risk            26707 non-null  float64\n",
      " 21  opinion_seas_sick_from_vacc  26707 non-null  float64\n",
      " 22  age_group                    26707 non-null  object \n",
      " 23  education                    26707 non-null  object \n",
      " 24  race                         26707 non-null  object \n",
      " 25  sex                          26707 non-null  object \n",
      " 26  income_poverty               26707 non-null  object \n",
      " 27  marital_status               26707 non-null  object \n",
      " 28  rent_or_own                  26707 non-null  object \n",
      " 29  employment_status            26707 non-null  object \n",
      " 30  hhs_geo_region               26707 non-null  object \n",
      " 31  census_msa                   26707 non-null  object \n",
      " 32  household_adults             26707 non-null  float64\n",
      " 33  household_children           26707 non-null  float64\n",
      " 34  employment_industry          26707 non-null  object \n",
      " 35  xyz_vaccine                  26707 non-null  int64  \n",
      " 36  seasonal_vaccine             26707 non-null  int64  \n",
      "dtypes: float64(24), int64(2), object(11)\n",
      "memory usage: 7.5+ MB\n"
     ]
    }
   ],
   "source": [
    "train_data.info()"
   ]
  },
  {
   "cell_type": "code",
   "execution_count": 12,
   "id": "409445d2-d56c-4762-a81f-09cbe3712f44",
   "metadata": {},
   "outputs": [
    {
     "name": "stdout",
     "output_type": "stream",
     "text": [
      "<class 'pandas.core.frame.DataFrame'>\n",
      "RangeIndex: 26708 entries, 0 to 26707\n",
      "Data columns (total 35 columns):\n",
      " #   Column                       Non-Null Count  Dtype  \n",
      "---  ------                       --------------  -----  \n",
      " 0   respondent_id                26708 non-null  float64\n",
      " 1   xyz_concern                  26708 non-null  float64\n",
      " 2   xyz_knowledge                26708 non-null  float64\n",
      " 3   behavioral_antiviral_meds    26708 non-null  float64\n",
      " 4   behavioral_avoidance         26708 non-null  float64\n",
      " 5   behavioral_face_mask         26708 non-null  float64\n",
      " 6   behavioral_wash_hands        26708 non-null  float64\n",
      " 7   behavioral_large_gatherings  26708 non-null  float64\n",
      " 8   behavioral_outside_home      26708 non-null  float64\n",
      " 9   behavioral_touch_face        26708 non-null  float64\n",
      " 10  doctor_recc_xyz              26708 non-null  float64\n",
      " 11  doctor_recc_seasonal         26708 non-null  float64\n",
      " 12  chronic_med_condition        26708 non-null  float64\n",
      " 13  child_under_6_months         26708 non-null  float64\n",
      " 14  health_worker                26708 non-null  float64\n",
      " 15  health_insurance             26708 non-null  float64\n",
      " 16  opinion_xyz_vacc_effective   26708 non-null  float64\n",
      " 17  opinion_xyz_risk             26708 non-null  float64\n",
      " 18  opinion_xyz_sick_from_vacc   26708 non-null  float64\n",
      " 19  opinion_seas_vacc_effective  26708 non-null  float64\n",
      " 20  opinion_seas_risk            26708 non-null  float64\n",
      " 21  opinion_seas_sick_from_vacc  26708 non-null  float64\n",
      " 22  age_group                    26708 non-null  object \n",
      " 23  education                    26708 non-null  object \n",
      " 24  race                         26708 non-null  object \n",
      " 25  sex                          26708 non-null  object \n",
      " 26  income_poverty               26708 non-null  object \n",
      " 27  marital_status               26708 non-null  object \n",
      " 28  rent_or_own                  26708 non-null  object \n",
      " 29  employment_status            26708 non-null  object \n",
      " 30  hhs_geo_region               26708 non-null  object \n",
      " 31  census_msa                   26708 non-null  object \n",
      " 32  household_adults             26708 non-null  float64\n",
      " 33  household_children           26708 non-null  float64\n",
      " 34  employment_industry          26708 non-null  object \n",
      "dtypes: float64(24), object(11)\n",
      "memory usage: 7.1+ MB\n"
     ]
    }
   ],
   "source": [
    "test_data.info()"
   ]
  },
  {
   "cell_type": "markdown",
   "id": "67584439-833e-43e5-b9d5-9ca4fc800eb9",
   "metadata": {},
   "source": [
    "combing the test dataset with train "
   ]
  },
  {
   "cell_type": "code",
   "execution_count": 13,
   "id": "5d4f78fe-7f28-4165-85f6-037fe573e5f1",
   "metadata": {},
   "outputs": [],
   "source": [
    "test_data = test_data.join(train_data_labels.set_index('respondent_id'), on='respondent_id')"
   ]
  },
  {
   "cell_type": "code",
   "execution_count": 14,
   "id": "f15a2e49-78fd-4380-86e9-43e157b424dc",
   "metadata": {},
   "outputs": [
    {
     "name": "stdout",
     "output_type": "stream",
     "text": [
      "<class 'pandas.core.frame.DataFrame'>\n",
      "RangeIndex: 26708 entries, 0 to 26707\n",
      "Data columns (total 37 columns):\n",
      " #   Column                       Non-Null Count  Dtype  \n",
      "---  ------                       --------------  -----  \n",
      " 0   respondent_id                26708 non-null  float64\n",
      " 1   xyz_concern                  26708 non-null  float64\n",
      " 2   xyz_knowledge                26708 non-null  float64\n",
      " 3   behavioral_antiviral_meds    26708 non-null  float64\n",
      " 4   behavioral_avoidance         26708 non-null  float64\n",
      " 5   behavioral_face_mask         26708 non-null  float64\n",
      " 6   behavioral_wash_hands        26708 non-null  float64\n",
      " 7   behavioral_large_gatherings  26708 non-null  float64\n",
      " 8   behavioral_outside_home      26708 non-null  float64\n",
      " 9   behavioral_touch_face        26708 non-null  float64\n",
      " 10  doctor_recc_xyz              26708 non-null  float64\n",
      " 11  doctor_recc_seasonal         26708 non-null  float64\n",
      " 12  chronic_med_condition        26708 non-null  float64\n",
      " 13  child_under_6_months         26708 non-null  float64\n",
      " 14  health_worker                26708 non-null  float64\n",
      " 15  health_insurance             26708 non-null  float64\n",
      " 16  opinion_xyz_vacc_effective   26708 non-null  float64\n",
      " 17  opinion_xyz_risk             26708 non-null  float64\n",
      " 18  opinion_xyz_sick_from_vacc   26708 non-null  float64\n",
      " 19  opinion_seas_vacc_effective  26708 non-null  float64\n",
      " 20  opinion_seas_risk            26708 non-null  float64\n",
      " 21  opinion_seas_sick_from_vacc  26708 non-null  float64\n",
      " 22  age_group                    26708 non-null  object \n",
      " 23  education                    26708 non-null  object \n",
      " 24  race                         26708 non-null  object \n",
      " 25  sex                          26708 non-null  object \n",
      " 26  income_poverty               26708 non-null  object \n",
      " 27  marital_status               26708 non-null  object \n",
      " 28  rent_or_own                  26708 non-null  object \n",
      " 29  employment_status            26708 non-null  object \n",
      " 30  hhs_geo_region               26708 non-null  object \n",
      " 31  census_msa                   26708 non-null  object \n",
      " 32  household_adults             26708 non-null  float64\n",
      " 33  household_children           26708 non-null  float64\n",
      " 34  employment_industry          26708 non-null  object \n",
      " 35  xyz_vaccine                  0 non-null      float64\n",
      " 36  seasonal_vaccine             0 non-null      float64\n",
      "dtypes: float64(26), object(11)\n",
      "memory usage: 7.5+ MB\n"
     ]
    }
   ],
   "source": [
    "test_data.info()"
   ]
  },
  {
   "cell_type": "markdown",
   "id": "ab72925e-56c3-4ef0-ba55-ac3515b8eaaa",
   "metadata": {},
   "source": [
    "### training data"
   ]
  },
  {
   "cell_type": "code",
   "execution_count": 16,
   "id": "17e951f1-d4e5-443e-aa25-627bdf5a0295",
   "metadata": {},
   "outputs": [],
   "source": [
    "from sklearn.multioutput import MultiOutputClassifier\n",
    "X = train_data.drop(['respondent_id', 'xyz_vaccine', 'seasonal_vaccine'], axis=1)\n",
    "y = train_data[['xyz_vaccine', 'seasonal_vaccine']]\n",
    "\n",
    "# categorical and numerical columns\n",
    "categorical_features = X.select_dtypes(include=['object']).columns\n",
    "numerical_features = X.select_dtypes(exclude=['object']).columns\n",
    "\n",
    "#  preprocessor with column transformations\n",
    "preprocessor = ColumnTransformer(\n",
    "    transformers=[\n",
    "        ('num', SimpleImputer(strategy='median'), numerical_features),\n",
    "        ('cat', Pipeline(steps=[\n",
    "            ('imputer', SimpleImputer(strategy='most_frequent')),\n",
    "            ('onehot', OneHotEncoder(handle_unknown='ignore'))\n",
    "        ]), categorical_features)\n",
    "    ])\n",
    "\n",
    "# Scale features \n",
    "scaler = StandardScaler()\n",
    "\n",
    "# Create a pipeline for preprocessing and scaling\n",
    "preprocessing_pipeline = Pipeline(steps=[\n",
    "    ('preprocessor', preprocessor),\n",
    "    ('scaler', scaler)\n",
    "])\n",
    "\n",
    "# preprocessing pipeline to the features\n",
    "X_processed = preprocessing_pipeline.fit_transform(X)\n",
    "\n",
    "# Train the Logistic Regression model\n",
    "X_train, X_test, y_train, y_test = train_test_split(X_processed, y, test_size=0.2, random_state=42)\n",
    "\n",
    "# Logistic Regression with MultiOutputClassifier for multilabel problem\n",
    "logistic_model = MultiOutputClassifier(LogisticRegression(solver='liblinear'))\n",
    "logistic_model.fit(X_train, y_train)\n",
    "\n",
    "# Make predictions\n",
    "y_pred_proba = logistic_model.predict_proba(X_test)\n",
    "\n",
    "# Extract the probability predictions for each label\n",
    "y_pred_proba_xyz = y_pred_proba[0][:, 1]\n",
    "y_pred_proba_seasonal = y_pred_proba[1][:, 1]\n"
   ]
  },
  {
   "cell_type": "markdown",
   "id": "04aad643-f1af-4e09-a5df-1a8aab06de07",
   "metadata": {},
   "source": [
    "### Predict and evaluate"
   ]
  },
  {
   "cell_type": "code",
   "execution_count": 21,
   "id": "fd29ca93-0a91-4cc9-ad7a-4a49cc0238bb",
   "metadata": {},
   "outputs": [
    {
     "name": "stdout",
     "output_type": "stream",
     "text": [
      "ROC AUC Score for xyz_vaccine: 0.835\n",
      "ROC AUC Score for seasonal_vaccine: 0.856\n",
      "Mean ROC AUC Score: 0.845\n"
     ]
    }
   ],
   "source": [
    "#Evaluate the model using ROC AUC score\n",
    "roc_auc_xyz = roc_auc_score(y_test['xyz_vaccine'], y_pred_proba_xyz)\n",
    "roc_auc_seasonal = roc_auc_score(y_test['seasonal_vaccine'], y_pred_proba_seasonal)\n",
    "\n",
    "# Calculate the mean ROC AUC score\n",
    "mean_roc_auc = np.mean([roc_auc_xyz, roc_auc_seasonal])\n",
    "\n",
    "roc_auc_xyz_rounded = round(roc_auc_xyz, 3)\n",
    "roc_auc_seasonal_rounded = round(roc_auc_seasonal, 3)\n",
    "mean_roc_auc_rounded = round(mean_roc_auc, 3) \n",
    "\n",
    "print(f'ROC AUC Score for xyz_vaccine: {roc_auc_xyz_rounded}')\n",
    "print(f'ROC AUC Score for seasonal_vaccine: {roc_auc_seasonal_rounded}')\n",
    "print(f'Mean ROC AUC Score: {mean_roc_auc_rounded}')"
   ]
  },
  {
   "cell_type": "code",
   "execution_count": 19,
   "id": "1e8c4983-3be8-4b2a-8149-3c42e2988849",
   "metadata": {},
   "outputs": [
    {
     "name": "stdout",
     "output_type": "stream",
     "text": [
      "Mean cross-validation ROC AUC score: 0.843679545701144\n"
     ]
    }
   ],
   "source": [
    "from sklearn.model_selection import cross_val_score\n",
    "# Evaluate the model using cross-validation\n",
    "cross_val_scores = cross_val_score(MultiOutputClassifier(LogisticRegression(solver='liblinear')), X_processed, y, cv=5, scoring='roc_auc')\n",
    "\n",
    "# Calculate the mean cross-validation score\n",
    "mean_cross_val_score = np.mean(cross_val_scores)\n",
    "\n",
    "print(f'Mean cross-validation ROC AUC score: {mean_cross_val_score}')"
   ]
  },
  {
   "cell_type": "code",
   "execution_count": 27,
   "id": "f9fcf221-65ed-475c-91f1-31a5a854c637",
   "metadata": {},
   "outputs": [
    {
     "name": "stdout",
     "output_type": "stream",
     "text": [
      "File saved: True\n",
      "   respondent_id  xyz_vaccine  seasonal_vaccine\n",
      "0            0.0     0.026849          0.040245\n",
      "1            1.0     0.176353          0.110810\n",
      "2            2.0     0.028422          0.089313\n",
      "3            3.0     0.076435          0.927187\n",
      "4            4.0     0.040042          0.057644\n",
      "File Path: C:\\Users\\divya\\miniconda3\\submission.csv\n"
     ]
    }
   ],
   "source": [
    "import os\n",
    "submission = pd.DataFrame({\n",
    "    'respondent_id': train_data['respondent_id'],\n",
    "    'xyz_vaccine': logistic_model.predict_proba(X_processed)[0][:, 1],\n",
    "    'seasonal_vaccine': logistic_model.predict_proba(X_processed)[1][:, 1]\n",
    "})\n",
    "\n",
    "# Saving submission file\n",
    "submission.to_csv('submission.csv', index=False)\n",
    "file_exists = os.path.isfile('submission.csv')\n",
    "print(f\"File saved: {file_exists}\")\n",
    "\n",
    "# first few rows\n",
    "if file_exists:\n",
    "    saved_submission = pd.read_csv('submission.csv')\n",
    "    print(saved_submission.head())\n",
    "\n",
    "#path\n",
    "file_path = os.path.join(current_directory, 'submission.csv')\n",
    "print(f\"File Path: {file_path}\")\n"
   ]
  },
  {
   "cell_type": "code",
   "execution_count": null,
   "id": "dae76507-ec7c-4b32-a732-ae8db34f7acc",
   "metadata": {},
   "outputs": [],
   "source": []
  }
 ],
 "metadata": {
  "kernelspec": {
   "display_name": "Python 3 (ipykernel)",
   "language": "python",
   "name": "python3"
  },
  "language_info": {
   "codemirror_mode": {
    "name": "ipython",
    "version": 3
   },
   "file_extension": ".py",
   "mimetype": "text/x-python",
   "name": "python",
   "nbconvert_exporter": "python",
   "pygments_lexer": "ipython3",
   "version": "3.11.5"
  }
 },
 "nbformat": 4,
 "nbformat_minor": 5
}
